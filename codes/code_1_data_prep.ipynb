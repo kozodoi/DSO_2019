{
 "cells": [
  {
   "cell_type": "markdown",
   "metadata": {},
   "source": [
    "# 1. SETTINGS"
   ]
  },
  {
   "cell_type": "code",
   "execution_count": null,
   "metadata": {},
   "outputs": [],
   "source": [
    "# import packages\n",
    "import pandas as pd\n",
    "import numpy as np\n",
    "import scipy.stats\n",
    "import os"
   ]
  },
  {
   "cell_type": "code",
   "execution_count": null,
   "metadata": {},
   "outputs": [],
   "source": [
    "# pandas options\n",
    "pd.set_option('display.max_columns', None)"
   ]
  },
  {
   "cell_type": "code",
   "execution_count": null,
   "metadata": {},
   "outputs": [],
   "source": [
    "# ignore warnings\n",
    "import warnings\n",
    "warnings.filterwarnings('ignore')"
   ]
  },
  {
   "cell_type": "code",
   "execution_count": null,
   "metadata": {},
   "outputs": [],
   "source": [
    "# garbage collection\n",
    "import gc\n",
    "gc.enable()"
   ]
  },
  {
   "cell_type": "code",
   "execution_count": null,
   "metadata": {},
   "outputs": [],
   "source": [
    "# helper functions\n",
    "import functions\n",
    "from functions import *"
   ]
  },
  {
   "cell_type": "markdown",
   "metadata": {},
   "source": [
    "# 2. IMPORT"
   ]
  },
  {
   "cell_type": "code",
   "execution_count": null,
   "metadata": {},
   "outputs": [],
   "source": [
    "# Train sample\n",
    "train = pd.read_csv('../data/train_requests.csv', sep=',', low_memory=False, error_bad_lines=False)\n",
    "test  = pd.read_csv('../data/test_requests.csv', sep=',', low_memory=False, error_bad_lines=False)\n",
    "y = train['granted_number_of_nights']\n",
    "\n",
    "print(train.shape)\n",
    "print(y.shape)\n",
    "print(test.shape)"
   ]
  },
  {
   "cell_type": "code",
   "execution_count": null,
   "metadata": {},
   "outputs": [],
   "source": [
    "# check data\n",
    "train.head()"
   ]
  },
  {
   "cell_type": "code",
   "execution_count": null,
   "metadata": {},
   "outputs": [],
   "source": [
    "# check data\n",
    "test.head()"
   ]
  },
  {
   "cell_type": "markdown",
   "metadata": {},
   "source": [
    "# 3. MERGER"
   ]
  },
  {
   "cell_type": "code",
   "execution_count": null,
   "metadata": {},
   "outputs": [],
   "source": [
    "# target variable\n",
    "test['granted_number_of_nights']  = np.nan"
   ]
  },
  {
   "cell_type": "code",
   "execution_count": null,
   "metadata": {},
   "outputs": [],
   "source": [
    "# align columns\n",
    "train = train.reindex_axis(sorted(train.columns), axis = 1)\n",
    "test  = test.reindex_axis(sorted(test.columns),   axis = 1)\n",
    "\n",
    "# check equalty\n",
    "train.columns == test.columns"
   ]
  },
  {
   "cell_type": "code",
   "execution_count": null,
   "metadata": {},
   "outputs": [],
   "source": [
    "# concatenate\n",
    "df = pd.concat([train, test], axis = 0)\n",
    "df = df.reset_index(drop = True)\n",
    "del train, test\n",
    "print(df.shape)"
   ]
  },
  {
   "cell_type": "code",
   "execution_count": null,
   "metadata": {},
   "outputs": [],
   "source": [
    "# check distributions\n",
    "df.describe()"
   ]
  },
  {
   "cell_type": "markdown",
   "metadata": {},
   "source": [
    "# 4. PROCESSING"
   ]
  },
  {
   "cell_type": "markdown",
   "metadata": {},
   "source": [
    "### DROP IRRELEVANT FEATURES"
   ]
  },
  {
   "cell_type": "code",
   "execution_count": null,
   "metadata": {},
   "outputs": [],
   "source": [
    "# remove columns with a single value\n",
    "print(df.shape)\n",
    "df = df.loc[:, df.nunique(dropna = False) != 1]\n",
    "print(df.shape)"
   ]
  },
  {
   "cell_type": "code",
   "execution_count": null,
   "metadata": {},
   "outputs": [],
   "source": [
    "# remove irrelevant columns\n",
    "print(df.shape)\n",
    "drops = ['group_main_requester_id', 'request_backoffice_creator_id']\n",
    "for var in drops:\n",
    "    del df[var]\n",
    "print(df.shape)"
   ]
  },
  {
   "cell_type": "markdown",
   "metadata": {},
   "source": [
    "### MISSING VALUES"
   ]
  },
  {
   "cell_type": "code",
   "execution_count": null,
   "metadata": {},
   "outputs": [],
   "source": [
    "# check missings\n",
    "count_missings(df)"
   ]
  },
  {
   "cell_type": "code",
   "execution_count": null,
   "metadata": {},
   "outputs": [],
   "source": [
    "# impute NAs with 0\n",
    "nas = []\n",
    "for var in nas:\n",
    "    df[var].fillna(0, inplace = True)"
   ]
  },
  {
   "cell_type": "code",
   "execution_count": null,
   "metadata": {},
   "outputs": [],
   "source": [
    "# impute missings with means\n",
    "#target = df['duration'].copy()\n",
    "#df = df.replace([np.inf, -np.inf], np.nan)\n",
    "#means = df.mean(axis = 0)\n",
    "#df.fillna(means, inplace = True)\n",
    "#df['duration'] = target"
   ]
  },
  {
   "cell_type": "markdown",
   "metadata": {},
   "source": [
    "### VARIABLE TYPES"
   ]
  },
  {
   "cell_type": "code",
   "execution_count": null,
   "metadata": {},
   "outputs": [],
   "source": [
    "# check data types\n",
    "df.dtypes"
   ]
  },
  {
   "cell_type": "code",
   "execution_count": null,
   "metadata": {},
   "outputs": [],
   "source": [
    "# convert to integers\n",
    "to_int = ['animal_presence', 'child_to_come', 'long_term_housing_request', 'victim_of_violence']\n",
    "for col in to_int:\n",
    "    #df[col] = df[col].astype('int64')\n",
    "    df[col], _ = pd.factorize(df[col])\n",
    "    \n",
    "    \n",
    "# convert to strings\n",
    "to_str = ['request_id', 'group_composition_id', 'housing_situation_id', 'social_situation_id']\n",
    "for col in to_str:\n",
    "    df[col] = df[col].astype('object')\n",
    "    \n",
    "    \n",
    "# convert to dates\n",
    "dates = ['answer_creation_date', 'group_creation_date', 'request_creation_date']\n",
    "for var in dates:\n",
    "    df[var] = pd.to_datetime(df[var].astype('str'), infer_datetime_format = True)"
   ]
  },
  {
   "cell_type": "markdown",
   "metadata": {},
   "source": [
    "### AGGREGATIONS"
   ]
  },
  {
   "cell_type": "code",
   "execution_count": null,
   "metadata": {},
   "outputs": [],
   "source": [
    "# aggregated data\n",
    "stats = ['mean', 'std', 'min', 'max']\n",
    "train_ind_id = train_ind['request_id'].copy()\n",
    "df_agg = aggregate_data(train_ind, group_var = 'individual_id', num_stats = stats, var_label = 'group')\n",
    "df_agg.head()"
   ]
  },
  {
   "cell_type": "code",
   "execution_count": null,
   "metadata": {},
   "outputs": [],
   "source": [
    "# remove target aggregations\n",
    "drops = ['housing_situation_id', 'district']\n",
    "for var in drops:\n",
    "    vars_to_drop = ['group_id_' + var + '_' + s for s in stats]\n",
    "    for var_to_drop in vars_to_drop:\n",
    "        del df_agg[var_to_drop]\n",
    "df_agg.shape"
   ]
  },
  {
   "cell_type": "code",
   "execution_count": null,
   "metadata": {},
   "outputs": [],
   "source": [
    "# merge to the data\n",
    "print(df.shape)\n",
    "df = df.merge(df_agg, how = 'left', on = 'category')\n",
    "print(df.shape)"
   ]
  },
  {
   "cell_type": "markdown",
   "metadata": {},
   "source": [
    "# 5. WORKING WITH FEATURES"
   ]
  },
  {
   "cell_type": "markdown",
   "metadata": {},
   "source": [
    "### EXTRACT FEATURES FROM TEXT"
   ]
  },
  {
   "cell_type": "code",
   "execution_count": null,
   "metadata": {},
   "outputs": [],
   "source": [
    "# compute features\n",
    "text_vars = ['group_composition_label', 'housing_situation_label']\n",
    "print(df.shape)\n",
    "df = add_text_features(df, strings = text_vars, k = 5, keep = False)\n",
    "print(df.shape)"
   ]
  },
  {
   "cell_type": "markdown",
   "metadata": {},
   "source": [
    "### CREATE NEW FEATURES"
   ]
  },
  {
   "cell_type": "code",
   "execution_count": null,
   "metadata": {},
   "outputs": [],
   "source": [
    "dates = ['answer_creation_date', 'group_creation_date', 'request_creation_date']\n",
    "df['daydif_1'] = (df[dates[0]] - df[dates[1]]).astype('int') / 1000000\n",
    "df['daydif_1'] = (df[dates[0]] - df[dates[2]]).astype('int') / 1000000\n",
    "df['daydif_1'] = (df[dates[1]] - df[dates[2]]).astype('int') / 1000000"
   ]
  },
  {
   "cell_type": "markdown",
   "metadata": {},
   "source": [
    "### ENCODE FACTORS"
   ]
  },
  {
   "cell_type": "code",
   "execution_count": null,
   "metadata": {},
   "outputs": [],
   "source": [
    "# convert categorical features\n",
    "ids = df['request_id'].copy()\n",
    "df = encode_factors(df, method = 'label')\n",
    "df['request_id'] = ids \n",
    "df.shape"
   ]
  },
  {
   "cell_type": "markdown",
   "metadata": {},
   "source": [
    "# 6. EXPORT"
   ]
  },
  {
   "cell_type": "code",
   "execution_count": null,
   "metadata": {},
   "outputs": [],
   "source": [
    "# export CSV\n",
    "df2.to_csv('../data/data_v3.csv', index = False)\n",
    "df2.shape"
   ]
  }
 ],
 "metadata": {
  "kernelspec": {
   "display_name": "Python 3",
   "language": "python",
   "name": "python3"
  },
  "language_info": {
   "codemirror_mode": {
    "name": "ipython",
    "version": 3
   },
   "file_extension": ".py",
   "mimetype": "text/x-python",
   "name": "python",
   "nbconvert_exporter": "python",
   "pygments_lexer": "ipython3",
   "version": "3.7.3"
  }
 },
 "nbformat": 4,
 "nbformat_minor": 2
}
